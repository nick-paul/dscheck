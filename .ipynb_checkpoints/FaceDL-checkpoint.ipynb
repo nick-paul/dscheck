{
 "cells": [
  {
   "cell_type": "code",
   "execution_count": 45,
   "metadata": {},
   "outputs": [],
   "source": [
    "import sys\n",
    "import cv2\n",
    "import os\n",
    "from keras.preprocessing.image import img_to_array\n",
    "import numpy as np\n",
    "\n",
    "IMG_PATH = '/Users/npaul/Documents/git/face-dl/data/'\n",
    "\n",
    "def loadImage(path, output=sys.stdout):\n",
    "    image = cv2.imread(path)\n",
    "    if image is None:\n",
    "        print(\"Unable to load image '%s'\" % path, file=output)\n",
    "        return None\n",
    "    image = image.astype(\"float\") / 255.0\n",
    "    image = img_to_array(image)\n",
    "    return image"
   ]
  },
  {
   "cell_type": "code",
   "execution_count": 73,
   "metadata": {
    "collapsed": true
   },
   "outputs": [],
   "source": [
    "import matplotlib.pyplot as plt\n",
    "\n",
    "def previewImage(image, title=None):\n",
    "        plt.figure()\n",
    "        #im = np.transpose(image, (1,2,0))\n",
    "        im = image\n",
    "        rgb = np.fliplr(im.reshape(-1,3)).reshape(im.shape)\n",
    "        plt.imshow(rgb)\n",
    "        if title is not None:\n",
    "            plt.title(title)\n",
    "        plt.show()"
   ]
  },
  {
   "cell_type": "code",
   "execution_count": 43,
   "metadata": {},
   "outputs": [],
   "source": [
    "from random import randint\n",
    "\n",
    "all_imgs = os.listdir(IMG_PATH)\n",
    "\n",
    "def randImg():\n",
    "    return all_imgs[randint(0, len(all_imgs))]"
   ]
  },
  {
   "cell_type": "code",
   "execution_count": 47,
   "metadata": {},
   "outputs": [],
   "source": [
    "def imagePaths():\n",
    "    imgs = {}\n",
    "\n",
    "    for dir in os.listdir(IMG_PATH):\n",
    "        path = os.path.join(IMG_PATH, dir)\n",
    "        if os.path.isdir(path):\n",
    "            imgs[dir] = []\n",
    "            for f in os.listdir(path):\n",
    "                imgs[dir].append(os.path.join(path, f))\n",
    "    return imgs"
   ]
  },
  {
   "cell_type": "code",
   "execution_count": 48,
   "metadata": {},
   "outputs": [
    {
     "data": {
      "text/plain": [
       "dict_keys(['s1', 's10', 's11', 's12', 's13', 's14', 's15', 's16', 's17', 's18', 's19', 's2', 's20', 's21', 's22', 's23', 's24', 's25', 's26', 's27', 's28', 's29', 's3', 's30', 's31', 's32', 's33', 's34', 's35', 's36', 's37', 's38', 's39', 's4', 's40', 's5', 's6', 's7', 's8', 's9'])"
      ]
     },
     "execution_count": 48,
     "metadata": {},
     "output_type": "execute_result"
    }
   ],
   "source": [
    "image_paths = imagePaths()\n",
    "image_paths.keys()"
   ]
  },
  {
   "cell_type": "code",
   "execution_count": 217,
   "metadata": {},
   "outputs": [],
   "source": [
    "from sklearn.utils import shuffle\n",
    "from sklearn.model_selection import train_test_split\n",
    "from keras.utils import np_utils\n",
    "\n",
    "def loadAllImages(do_shuffle=False, split=False, random_state=0, output=sys.stdout):\n",
    "    \"\"\"\n",
    "    X, y = loadAllImages()\n",
    "    X: image data\n",
    "    y: labels\n",
    "    \"\"\"\n",
    "    data = {}\n",
    "\n",
    "    image_paths = imagePaths()\n",
    "\n",
    "    labels = []\n",
    "    imgs = []\n",
    "    for k,paths in image_paths.items():\n",
    "        for p in paths:\n",
    "            labels.append(k)\n",
    "            imgs.append(loadImage(p))\n",
    "            \n",
    "    X, y = np.array(imgs), labels        \n",
    "    \n",
    "    if do_shuffle:\n",
    "        X, y = shuffle(X, y, random_state=random_state)\n",
    "    \n",
    "    data['class_names'] = sorted(list(set(labels))) \n",
    "    data['num_classes'] = len(data['class_names'])\n",
    "\n",
    "    # 'sXX' -> N\n",
    "    y = [int(s[1:])-1 for s in y]\n",
    "    \n",
    "    y = np_utils.to_categorical(y, data['num_classes'])\n",
    "        \n",
    "    \n",
    "    if split:\n",
    "        # Split data\n",
    "        # 75% Train\n",
    "        # 12.5% Validation (Dev)\n",
    "        # 12.5% Test\n",
    "\n",
    "        # partition the data into training and testing splits using 75% of\n",
    "        # the data for training and the remaining 25% for testing and validataion\n",
    "        (X_train, X_test_val, y_train, y_test_val) = train_test_split(X,\n",
    "            y, test_size=0.25, random_state=0)\n",
    "\n",
    "        # Split test_val into testing and validation sets 50/50\n",
    "        (X_test, X_val, y_test, y_val) = train_test_split(\n",
    "            X_test_val, y_test_val, test_size=0.5, random_state=0)\n",
    "\n",
    "        print('Training set size: %d' % len(y_train), file=output)\n",
    "        print('Test set size: %d' % len(y_test), file=output)\n",
    "        print('Validation set size: %d' % len(y_val), file=output)\n",
    "\n",
    "        data['X_train'] = X_train\n",
    "        data['X_test'] = X_test\n",
    "        data['X_val'] = X_val\n",
    "        data['y_train'] = y_train\n",
    "        data['y_test'] = y_test\n",
    "        data['y_val'] = y_val\n",
    "    else:\n",
    "        data['X'] = X\n",
    "        data['y'] = y\n",
    "        \n",
    "    return data"
   ]
  },
  {
   "cell_type": "code",
   "execution_count": 227,
   "metadata": {},
   "outputs": [
    {
     "name": "stdout",
     "output_type": "stream",
     "text": [
      "Training set size: 300\n",
      "Test set size: 50\n",
      "Validation set size: 50\n"
     ]
    },
    {
     "data": {
      "image/png": "[encoded data removed]",
      "text/plain": [
       "<matplotlib.figure.Figure at 0x12636c6d8>"
      ]
     },
     "metadata": {},
     "output_type": "display_data"
    }
   ],
   "source": [
    "from time import time\n",
    "\n",
    "data = loadAllImages(do_shuffle=True, random_state=int(time()), split=True)\n",
    "X = data['X_train']\n",
    "y = data['y_train']\n",
    "previewImage(X[2], title=np.argmax(y[2]))"
   ]
  },
  {
   "cell_type": "code",
   "execution_count": 237,
   "metadata": {},
   "outputs": [
    {
     "name": "stdout",
     "output_type": "stream",
     "text": [
      "preview_data\n"
     ]
    }
   ],
   "source": [
    "import matplotlib.pyplot as plt\n",
    "from random import randint\n",
    "\n",
    "def preview_data(name, X_train, y_train, class_names, width=5, height=5, save=False, show=False):\n",
    "    unique_imgs = 3\n",
    "    offset = randint(0,len(y_train[0]) - (1 + unique_imgs)) \n",
    "    count = width * height\n",
    "    fig = plt.figure(figsize=(width*1.7,height*2))\n",
    "    for i in range(count):\n",
    "        label = offset + randint(0,unique_imgs-1)\n",
    "        n = randint(0, len(y_train))\n",
    "        \n",
    "        if int(np.argmax(y_train[n])) != label:\n",
    "            continue\n",
    "            \n",
    "        ax = fig.add_subplot(height,width,i+1, xticks=[], yticks=[])\n",
    "        im = X_train[n,::]\n",
    "        #im = np.transpose(im, (1,2,0))\n",
    "        rgb = np.fliplr(im.reshape(-1,3)).reshape(im.shape)\n",
    "        plt.imshow(rgb)\n",
    "        ax.set_title('%s' % class_names[int(np.argmax(y_train[n]))])\n",
    "    \n",
    "    plt.suptitle(name)\n",
    "    if save:\n",
    "        plt.savefig('plots/preview_%s.png' % name)\n",
    "    if show:\n",
    "        plt.show()\n",
    "        \n",
    "print('preview_data')"
   ]
  },
  {
   "cell_type": "code",
   "execution_count": 239,
   "metadata": {},
   "outputs": [
    {
     "data": {
      "text/plain": [
       "<matplotlib.figure.Figure at 0x12756a630>"
      ]
     },
     "metadata": {},
     "output_type": "display_data"
    }
   ],
   "source": [
    "preview_data('sanity check', data['X_train'], data['y_train'], data['class_names'], show=True)"
   ]
  },
  {
   "cell_type": "code",
   "execution_count": 69,
   "metadata": {},
   "outputs": [],
   "source": [
    "from random import randint\n",
    "\n",
    "def crop(img, w, h, kind='ul'):\n",
    "    W = img.shape[1]\n",
    "    H = img.shape[0]\n",
    "    if kind == 'ul':\n",
    "        return img[0:0+h, 0:0+w]\n",
    "    elif kind == 'll':\n",
    "        return img[H-h:H, 0:0+w]\n",
    "    elif kind == 'ur':\n",
    "        return img[0:0+h, W-w:W]\n",
    "    elif kind == 'lr':\n",
    "        return img[H-h:H, W-w:W]\n",
    "    elif kind == 'rand':\n",
    "        x = randint(0, H-h)\n",
    "        y = randint(0, W-w)\n",
    "        return img[x:x+h, y:y+w]\n",
    "    else:\n",
    "        raise ArgumentError(\"Invalid argument for 'kind': %s\" + kind) "
   ]
  },
  {
   "cell_type": "code",
   "execution_count": 75,
   "metadata": {},
   "outputs": [
    {
     "data": {
      "image/png": "[encoded data removed]",
      "text/plain": [
       "<matplotlib.figure.Figure at 0x1253cb630>"
      ]
     },
     "metadata": {},
     "output_type": "display_data"
    },
    {
     "data": {
      "image/png": "[encoded data removed]",
      "text/plain": [
       "<matplotlib.figure.Figure at 0x124ea7198>"
      ]
     },
     "metadata": {},
     "output_type": "display_data"
    },
    {
     "data": {
      "image/png": "[encoded data removed]",
      "text/plain": [
       "<matplotlib.figure.Figure at 0x1247d49b0>"
      ]
     },
     "metadata": {},
     "output_type": "display_data"
    },
    {
     "data": {
      "image/png": "[encoded data removed]",
      "text/plain": [
       "<matplotlib.figure.Figure at 0x124b3a128>"
      ]
     },
     "metadata": {},
     "output_type": "display_data"
    },
    {
     "data": {
      "image/png": "[encoded data removed]",
      "text/plain": [
       "<matplotlib.figure.Figure at 0x1252d8a58>"
      ]
     },
     "metadata": {},
     "output_type": "display_data"
    }
   ],
   "source": [
    "for kind in ['ul', 'll', 'ur', 'lr', 'rand']:\n",
    "    previewImage(crop(img, 30, 30, kind), title=kind)"
   ]
  },
  {
   "cell_type": "code",
   "execution_count": 164,
   "metadata": {},
   "outputs": [
    {
     "data": {
      "text/plain": [
       "'12'"
      ]
     },
     "execution_count": 164,
     "metadata": {},
     "output_type": "execute_result"
    }
   ],
   "source": [
    "s = 's12'\n",
    "s[1:]"
   ]
  },
  {
   "cell_type": "code",
   "execution_count": null,
   "metadata": {
    "collapsed": true
   },
   "outputs": [],
   "source": []
  }
 ],
 "metadata": {
  "kernelspec": {
   "display_name": "Python 3",
   "language": "python",
   "name": "python3"
  },
  "language_info": {
   "codemirror_mode": {
    "name": "ipython",
    "version": 3
   },
   "file_extension": ".py",
   "mimetype": "text/x-python",
   "name": "python",
   "nbconvert_exporter": "python",
   "pygments_lexer": "ipython3",
   "version": "3.6.1"
  }
 },
 "nbformat": 4,
 "nbformat_minor": 2
}
